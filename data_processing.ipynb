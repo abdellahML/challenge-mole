{
 "cells": [
  {
   "cell_type": "code",
   "execution_count": 274,
   "metadata": {},
   "outputs": [],
   "source": [
    "import pandas as pd\n",
    "import os\n",
    "import cv2 as cv\n",
    "import matplotlib.pyplot as plt\n",
    "import numpy as np\n",
    "import tensorflow as tf\n",
    "from tensorflow.keras.preprocessing.image import ImageDataGenerator, img_to_array, array_to_img, load_img\n",
    "from tensorflow.keras.preprocessing import image_dataset_from_directory\n",
    "from PIL import Image\n",
    "\n"
   ]
  },
  {
   "cell_type": "code",
   "execution_count": 231,
   "metadata": {
    "scrolled": true
   },
   "outputs": [
    {
     "data": {
      "text/html": [
       "<div>\n",
       "<style scoped>\n",
       "    .dataframe tbody tr th:only-of-type {\n",
       "        vertical-align: middle;\n",
       "    }\n",
       "\n",
       "    .dataframe tbody tr th {\n",
       "        vertical-align: top;\n",
       "    }\n",
       "\n",
       "    .dataframe thead th {\n",
       "        text-align: right;\n",
       "    }\n",
       "</style>\n",
       "<table border=\"1\" class=\"dataframe\">\n",
       "  <thead>\n",
       "    <tr style=\"text-align: right;\">\n",
       "      <th></th>\n",
       "      <th>klin. Diagn.</th>\n",
       "      <th>id</th>\n",
       "      <th>nr</th>\n",
       "      <th>Histo performed</th>\n",
       "      <th>Diagnose red.</th>\n",
       "      <th>kat.Diagnose</th>\n",
       "    </tr>\n",
       "  </thead>\n",
       "  <tbody>\n",
       "    <tr>\n",
       "      <th>0</th>\n",
       "      <td>Compound Nävus</td>\n",
       "      <td>d1</td>\n",
       "      <td>1</td>\n",
       "      <td>0</td>\n",
       "      <td>Compound Nevus</td>\n",
       "      <td>1</td>\n",
       "    </tr>\n",
       "    <tr>\n",
       "      <th>1</th>\n",
       "      <td>Compound Nävus</td>\n",
       "      <td>d2</td>\n",
       "      <td>2</td>\n",
       "      <td>0</td>\n",
       "      <td>Compound Nevus</td>\n",
       "      <td>1</td>\n",
       "    </tr>\n",
       "    <tr>\n",
       "      <th>2</th>\n",
       "      <td>Dysplastischer Nävus</td>\n",
       "      <td>d3</td>\n",
       "      <td>3</td>\n",
       "      <td>0</td>\n",
       "      <td>Compound Nevus</td>\n",
       "      <td>1</td>\n",
       "    </tr>\n",
       "    <tr>\n",
       "      <th>3</th>\n",
       "      <td>Compound Nävus</td>\n",
       "      <td>d4</td>\n",
       "      <td>4</td>\n",
       "      <td>0</td>\n",
       "      <td>Compound Nevus</td>\n",
       "      <td>1</td>\n",
       "    </tr>\n",
       "    <tr>\n",
       "      <th>4</th>\n",
       "      <td>Dermaler Nävus</td>\n",
       "      <td>d5</td>\n",
       "      <td>5</td>\n",
       "      <td>0</td>\n",
       "      <td>Compound Nevus</td>\n",
       "      <td>1</td>\n",
       "    </tr>\n",
       "    <tr>\n",
       "      <th>...</th>\n",
       "      <td>...</td>\n",
       "      <td>...</td>\n",
       "      <td>...</td>\n",
       "      <td>...</td>\n",
       "      <td>...</td>\n",
       "      <td>...</td>\n",
       "    </tr>\n",
       "    <tr>\n",
       "      <th>2995</th>\n",
       "      <td>Compound Nevus</td>\n",
       "      <td>f996</td>\n",
       "      <td>2996</td>\n",
       "      <td>0</td>\n",
       "      <td>Compound Nevus</td>\n",
       "      <td>1</td>\n",
       "    </tr>\n",
       "    <tr>\n",
       "      <th>2996</th>\n",
       "      <td>Compound Nevus</td>\n",
       "      <td>f997</td>\n",
       "      <td>2997</td>\n",
       "      <td>0</td>\n",
       "      <td>Compound Nevus</td>\n",
       "      <td>1</td>\n",
       "    </tr>\n",
       "    <tr>\n",
       "      <th>2997</th>\n",
       "      <td>Compound Nevus</td>\n",
       "      <td>f998</td>\n",
       "      <td>2998</td>\n",
       "      <td>0</td>\n",
       "      <td>Compound Nevus</td>\n",
       "      <td>1</td>\n",
       "    </tr>\n",
       "    <tr>\n",
       "      <th>2998</th>\n",
       "      <td>Compound Nevus</td>\n",
       "      <td>f999</td>\n",
       "      <td>2999</td>\n",
       "      <td>0</td>\n",
       "      <td>Compound Nevus</td>\n",
       "      <td>1</td>\n",
       "    </tr>\n",
       "    <tr>\n",
       "      <th>2999</th>\n",
       "      <td>Compound Nevus</td>\n",
       "      <td>f1000</td>\n",
       "      <td>3000</td>\n",
       "      <td>0</td>\n",
       "      <td>Compound Nevus</td>\n",
       "      <td>1</td>\n",
       "    </tr>\n",
       "  </tbody>\n",
       "</table>\n",
       "<p>3000 rows × 6 columns</p>\n",
       "</div>"
      ],
      "text/plain": [
       "              klin. Diagn.     id    nr  Histo performed   Diagnose red.  \\\n",
       "0           Compound Nävus     d1     1                0  Compound Nevus   \n",
       "1           Compound Nävus     d2     2                0  Compound Nevus   \n",
       "2     Dysplastischer Nävus     d3     3                0  Compound Nevus   \n",
       "3           Compound Nävus     d4     4                0  Compound Nevus   \n",
       "4           Dermaler Nävus     d5     5                0  Compound Nevus   \n",
       "...                    ...    ...   ...              ...             ...   \n",
       "2995        Compound Nevus   f996  2996                0  Compound Nevus   \n",
       "2996        Compound Nevus   f997  2997                0  Compound Nevus   \n",
       "2997        Compound Nevus   f998  2998                0  Compound Nevus   \n",
       "2998        Compound Nevus   f999  2999                0  Compound Nevus   \n",
       "2999        Compound Nevus  f1000  3000                0  Compound Nevus   \n",
       "\n",
       "     kat.Diagnose  \n",
       "0               1  \n",
       "1               1  \n",
       "2               1  \n",
       "3               1  \n",
       "4               1  \n",
       "...           ...  \n",
       "2995            1  \n",
       "2996            1  \n",
       "2997            1  \n",
       "2998            1  \n",
       "2999            1  \n",
       "\n",
       "[3000 rows x 6 columns]"
      ]
     },
     "execution_count": 231,
     "metadata": {},
     "output_type": "execute_result"
    }
   ],
   "source": [
    "df = pd.read_excel (r'/home/imad/Desktop/Becode/Project/challenge-mole/CLIN_DIA.xlsx')\n",
    "df"
   ]
  },
  {
   "cell_type": "code",
   "execution_count": 233,
   "metadata": {
    "scrolled": true
   },
   "outputs": [
    {
     "data": {
      "text/html": [
       "<div>\n",
       "<style scoped>\n",
       "    .dataframe tbody tr th:only-of-type {\n",
       "        vertical-align: middle;\n",
       "    }\n",
       "\n",
       "    .dataframe tbody tr th {\n",
       "        vertical-align: top;\n",
       "    }\n",
       "\n",
       "    .dataframe thead th {\n",
       "        text-align: right;\n",
       "    }\n",
       "</style>\n",
       "<table border=\"1\" class=\"dataframe\">\n",
       "  <thead>\n",
       "    <tr style=\"text-align: right;\">\n",
       "      <th></th>\n",
       "      <th>klin. Diagn.</th>\n",
       "      <th>id</th>\n",
       "      <th>nr</th>\n",
       "      <th>Histo performed</th>\n",
       "      <th>Diagnose red.</th>\n",
       "      <th>kat.Diagnose</th>\n",
       "    </tr>\n",
       "  </thead>\n",
       "  <tbody>\n",
       "    <tr>\n",
       "      <th>0</th>\n",
       "      <td>Compound Nävus</td>\n",
       "      <td>D1</td>\n",
       "      <td>1</td>\n",
       "      <td>0</td>\n",
       "      <td>Compound Nevus</td>\n",
       "      <td>0</td>\n",
       "    </tr>\n",
       "    <tr>\n",
       "      <th>1</th>\n",
       "      <td>Compound Nävus</td>\n",
       "      <td>D2</td>\n",
       "      <td>2</td>\n",
       "      <td>0</td>\n",
       "      <td>Compound Nevus</td>\n",
       "      <td>0</td>\n",
       "    </tr>\n",
       "    <tr>\n",
       "      <th>2</th>\n",
       "      <td>Dysplastischer Nävus</td>\n",
       "      <td>D3</td>\n",
       "      <td>3</td>\n",
       "      <td>0</td>\n",
       "      <td>Compound Nevus</td>\n",
       "      <td>0</td>\n",
       "    </tr>\n",
       "    <tr>\n",
       "      <th>3</th>\n",
       "      <td>Compound Nävus</td>\n",
       "      <td>D4</td>\n",
       "      <td>4</td>\n",
       "      <td>0</td>\n",
       "      <td>Compound Nevus</td>\n",
       "      <td>0</td>\n",
       "    </tr>\n",
       "    <tr>\n",
       "      <th>4</th>\n",
       "      <td>Dermaler Nävus</td>\n",
       "      <td>D5</td>\n",
       "      <td>5</td>\n",
       "      <td>0</td>\n",
       "      <td>Compound Nevus</td>\n",
       "      <td>0</td>\n",
       "    </tr>\n",
       "    <tr>\n",
       "      <th>...</th>\n",
       "      <td>...</td>\n",
       "      <td>...</td>\n",
       "      <td>...</td>\n",
       "      <td>...</td>\n",
       "      <td>...</td>\n",
       "      <td>...</td>\n",
       "    </tr>\n",
       "    <tr>\n",
       "      <th>2995</th>\n",
       "      <td>Compound Nevus</td>\n",
       "      <td>F996</td>\n",
       "      <td>2996</td>\n",
       "      <td>0</td>\n",
       "      <td>Compound Nevus</td>\n",
       "      <td>0</td>\n",
       "    </tr>\n",
       "    <tr>\n",
       "      <th>2996</th>\n",
       "      <td>Compound Nevus</td>\n",
       "      <td>F997</td>\n",
       "      <td>2997</td>\n",
       "      <td>0</td>\n",
       "      <td>Compound Nevus</td>\n",
       "      <td>0</td>\n",
       "    </tr>\n",
       "    <tr>\n",
       "      <th>2997</th>\n",
       "      <td>Compound Nevus</td>\n",
       "      <td>F998</td>\n",
       "      <td>2998</td>\n",
       "      <td>0</td>\n",
       "      <td>Compound Nevus</td>\n",
       "      <td>0</td>\n",
       "    </tr>\n",
       "    <tr>\n",
       "      <th>2998</th>\n",
       "      <td>Compound Nevus</td>\n",
       "      <td>F999</td>\n",
       "      <td>2999</td>\n",
       "      <td>0</td>\n",
       "      <td>Compound Nevus</td>\n",
       "      <td>0</td>\n",
       "    </tr>\n",
       "    <tr>\n",
       "      <th>2999</th>\n",
       "      <td>Compound Nevus</td>\n",
       "      <td>F1000</td>\n",
       "      <td>3000</td>\n",
       "      <td>0</td>\n",
       "      <td>Compound Nevus</td>\n",
       "      <td>0</td>\n",
       "    </tr>\n",
       "  </tbody>\n",
       "</table>\n",
       "<p>2937 rows × 6 columns</p>\n",
       "</div>"
      ],
      "text/plain": [
       "              klin. Diagn.     id    nr  Histo performed   Diagnose red.  \\\n",
       "0           Compound Nävus     D1     1                0  Compound Nevus   \n",
       "1           Compound Nävus     D2     2                0  Compound Nevus   \n",
       "2     Dysplastischer Nävus     D3     3                0  Compound Nevus   \n",
       "3           Compound Nävus     D4     4                0  Compound Nevus   \n",
       "4           Dermaler Nävus     D5     5                0  Compound Nevus   \n",
       "...                    ...    ...   ...              ...             ...   \n",
       "2995        Compound Nevus   F996  2996                0  Compound Nevus   \n",
       "2996        Compound Nevus   F997  2997                0  Compound Nevus   \n",
       "2997        Compound Nevus   F998  2998                0  Compound Nevus   \n",
       "2998        Compound Nevus   F999  2999                0  Compound Nevus   \n",
       "2999        Compound Nevus  F1000  3000                0  Compound Nevus   \n",
       "\n",
       "      kat.Diagnose  \n",
       "0                0  \n",
       "1                0  \n",
       "2                0  \n",
       "3                0  \n",
       "4                0  \n",
       "...            ...  \n",
       "2995             0  \n",
       "2996             0  \n",
       "2997             0  \n",
       "2998             0  \n",
       "2999             0  \n",
       "\n",
       "[2937 rows x 6 columns]"
      ]
     },
     "execution_count": 233,
     "metadata": {},
     "output_type": "execute_result"
    }
   ],
   "source": [
    "df = df[df[\"kat.Diagnose\"] != 0]\n",
    "df = df[df[\"kat.Diagnose\"] != \"?\"]\n",
    "df['kat.Diagnose'] = df['kat.Diagnose'].replace([1], 0).replace([2, 3], 1)\n",
    "df[\"id\"] = df[\"id\"].apply(lambda x : x.upper())\n",
    "\n",
    "df"
   ]
  },
  {
   "cell_type": "code",
   "execution_count": 315,
   "metadata": {},
   "outputs": [],
   "source": [
    "images = os.listdir(\"Mole_Data\")\n",
    "\n",
    "cancerous = []\n",
    "not_cancerous = []\n",
    "# image_index = []\n",
    "# for i in images:\n",
    "#     image_index.append(i)\n",
    "\n",
    "for i in range(len(images)):\n",
    "\n",
    "    try:\n",
    "        if df[\"kat.Diagnose\"][i] == 0.0:\n",
    "            not_cancerous.append(images[i])\n",
    "            \n",
    "        elif df[\"kat.Diagnose\"][i] == 1.0:\n",
    "            cancerous.append(images[i])\n",
    "    except KeyError:\n",
    "        continue\n"
   ]
  },
  {
   "cell_type": "code",
   "execution_count": 316,
   "metadata": {
    "scrolled": true
   },
   "outputs": [
    {
     "name": "stdout",
     "output_type": "stream",
     "text": [
      "610\n",
      "2230\n"
     ]
    }
   ],
   "source": [
    "print(len(cancerous))\n",
    "print(len(not_cancerous))"
   ]
  },
  {
   "cell_type": "code",
   "execution_count": 317,
   "metadata": {},
   "outputs": [],
   "source": [
    "for i in cancerous:\n",
    "    x = Image.open(\"./Mole_Data/\" + i)\n",
    "    x.save(\"./data/cancerous/\" + i)"
   ]
  },
  {
   "cell_type": "code",
   "execution_count": 318,
   "metadata": {},
   "outputs": [],
   "source": [
    "for n in not_cancerous:\n",
    "    y = Image.open(\"./Mole_Data/\" + n)\n",
    "    y.save(\"./data/not_cancerous/\" + n)"
   ]
  },
  {
   "cell_type": "code",
   "execution_count": 288,
   "metadata": {
    "scrolled": true
   },
   "outputs": [
    {
     "data": {
      "text/plain": [
       "7"
      ]
     },
     "execution_count": 288,
     "metadata": {},
     "output_type": "execute_result"
    }
   ],
   "source": [
    "len(images[1])"
   ]
  },
  {
   "cell_type": "code",
   "execution_count": 319,
   "metadata": {},
   "outputs": [],
   "source": [
    "# path = \"/home/imad/Desktop/Becode/Project/challenge-mole/samples/F995.BMP\" #/home/imad/Desktop/Becode/Project/challenge-mole/samples\n",
    "path = \"/home/imad/Desktop/Becode/Project/challenge-mole/Mole_Data/D900.BMP\"\n",
    "img = cv.imread(path)\n",
    "cv.imshow('origin',img)\n",
    "# gray = cv.cvtColor(img, cv.COLOR_BGR2GRAY)\n",
    "# cv.imshow('gray',gray)\n",
    "cv.waitKey(0)\n",
    "cv.destroyAllWindows()"
   ]
  },
  {
   "cell_type": "code",
   "execution_count": 320,
   "metadata": {},
   "outputs": [
    {
     "data": {
      "text/plain": [
       "(387, 632, 3)"
      ]
     },
     "execution_count": 320,
     "metadata": {},
     "output_type": "execute_result"
    }
   ],
   "source": [
    "img.shape\n",
    "# gray = cv.cvtColor(img, cv.COLOR_BGR2GRAY)\n",
    "# gray.shape"
   ]
  },
  {
   "cell_type": "code",
   "execution_count": 314,
   "metadata": {},
   "outputs": [],
   "source": [
    "# canerous_set = np.load(\"/home/imad/Desktop/Becode/Project/challenge-mole/data/cancerous\")\n",
    "# canerous_set = np.load(\"/home/imad/Desktop/Becode/Project/challenge-mole/data/not_cancerous\")"
   ]
  },
  {
   "cell_type": "code",
   "execution_count": 321,
   "metadata": {},
   "outputs": [],
   "source": [
    "def load_images_from_folder(folder):\n",
    "    images = []\n",
    "    for filename in os.listdir(folder):\n",
    "        img = cv.imread(os.path.join(folder,filename))\n",
    "        if img is not None:\n",
    "            images.append(img)\n",
    "    return images"
   ]
  },
  {
   "cell_type": "code",
   "execution_count": 322,
   "metadata": {},
   "outputs": [],
   "source": [
    "canerous_set = load_images_from_folder(\"/home/imad/Desktop/Becode/Project/challenge-mole/data/cancerous\")\n",
    "not_canerous_set = load_images_from_folder(\"/home/imad/Desktop/Becode/Project/challenge-mole/data/not_cancerous\")"
   ]
  },
  {
   "cell_type": "code",
   "execution_count": 323,
   "metadata": {},
   "outputs": [],
   "source": [
    "canerous_set = np.array(canerous_set)\n",
    "not_canerous_set = np.array(not_canerous_set)"
   ]
  },
  {
   "cell_type": "code",
   "execution_count": 325,
   "metadata": {
    "scrolled": true
   },
   "outputs": [
    {
     "data": {
      "text/plain": [
       "Text(0, 0.5, 'number of samples')"
      ]
     },
     "execution_count": 325,
     "metadata": {},
     "output_type": "execute_result"
    },
    {
     "data": {
      "image/png": "[encoded data removed]",
      "text/plain": [
       "<Figure size 432x288 with 1 Axes>"
      ]
     },
     "metadata": {
      "needs_background": "light"
     },
     "output_type": "display_data"
    }
   ],
   "source": [
    "plt.bar([0,1], [canerous_set.shape[0], not_canerous_set.shape[0]])\n",
    "plt.title('dataset sizes')\n",
    "plt.xticks([0,1], ['cancerous', 'not_cancerous'])\n",
    "plt.ylabel('number of samples')"
   ]
  },
  {
   "cell_type": "code",
   "execution_count": 327,
   "metadata": {},
   "outputs": [
    {
     "data": {
      "text/plain": [
       "Text(0, 0.5, 'number of samples')"
      ]
     },
     "execution_count": 327,
     "metadata": {},
     "output_type": "execute_result"
    },
    {
     "data": {
      "image/png": "[encoded data removed]",
      "text/plain": [
       "<Figure size 432x288 with 1 Axes>"
      ]
     },
     "metadata": {
      "needs_background": "light"
     },
     "output_type": "display_data"
    }
   ],
   "source": [
    "# max_samples = min(canerous_set.shape[0], not_canerous_set.shape[0])\n",
    "# preprocessed_canerous_set = canerous_set[:max_samples].reshape(-1,28,28)\n",
    "# preprocessed_not_canerous_set = not_canerous_set[:max_samples].reshape(-1,28,28)\n",
    "plt.bar([0,1], [canerous_set.shape[0], not_canerous_set.shape[0]])\n",
    "plt.title('dataset sizes')\n",
    "plt.xticks([0,1], ['cancerous', 'not_cancerous'])\n",
    "plt.ylabel('number of samples')"
   ]
  },
  {
   "cell_type": "code",
   "execution_count": null,
   "metadata": {},
   "outputs": [],
   "source": [
    "canerous_set_labels = np.zeros((max_samples, 1))\n",
    "not_canerous_set_labels = np.ones((max_samples, 1))"
   ]
  }
 ],
 "metadata": {
  "kernelspec": {
   "display_name": "Python 3",
   "language": "python",
   "name": "python3"
  },
  "language_info": {
   "codemirror_mode": {
    "name": "ipython",
    "version": 3
   },
   "file_extension": ".py",
   "mimetype": "text/x-python",
   "name": "python",
   "nbconvert_exporter": "python",
   "pygments_lexer": "ipython3",
   "version": "3.8.5"
  }
 },
 "nbformat": 4,
 "nbformat_minor": 4
}
