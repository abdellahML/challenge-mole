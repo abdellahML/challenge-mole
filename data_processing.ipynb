{
 "cells": [
  {
   "cell_type": "code",
   "execution_count": 45,
   "metadata": {},
   "outputs": [],
   "source": [
    "import pandas as pd\n",
    "import os\n",
    "import cv2 as cv\n",
    "import matplotlib.pyplot as plt\n",
    "import numpy as np\n",
    "import tensorflow as tf\n"
   ]
  },
  {
   "cell_type": "code",
   "execution_count": 46,
   "metadata": {},
   "outputs": [],
   "source": [
    "# path = \"/home/imad/Desktop/Becode/Project/challenge-mole/samples/F995.BMP\" #/home/imad/Desktop/Becode/Project/challenge-mole/samples\n",
    "path = \"/home/imad/Desktop/Becode/Project/challenge-mole/Mole_Data/Mole_Data/SET_D/D1.BMP\"\n",
    "img = cv.imread(path)\n",
    "cv.imshow('origin',img)\n",
    "# gray = cv.cvtColor(img, cv.COLOR_BGR2GRAY)\n",
    "# cv.imshow('gray',gray)\n",
    "cv.waitKey(0)\n",
    "cv.destroyAllWindows()"
   ]
  },
  {
   "cell_type": "code",
   "execution_count": 47,
   "metadata": {},
   "outputs": [],
   "source": [
    "# mole = np.load(\"/home/imad/Desktop/Becode/Project/challenge-mole/samples/F1000.BMP\",allow_pickle=True)\n",
    "gray = cv.cvtColor(img, cv.COLOR_BGR2GRAY)\n",
    "cv.imshow('img',gray)\n",
    "cv.waitKey(0)\n",
    "cv.destroyAllWindows()"
   ]
  },
  {
   "cell_type": "code",
   "execution_count": 48,
   "metadata": {
    "scrolled": true
   },
   "outputs": [
    {
     "data": {
      "text/plain": [
       "(387, 632, 3)"
      ]
     },
     "execution_count": 48,
     "metadata": {},
     "output_type": "execute_result"
    }
   ],
   "source": [
    "img.shape"
   ]
  },
  {
   "cell_type": "code",
   "execution_count": 49,
   "metadata": {},
   "outputs": [],
   "source": [
    "def load_images_from_folder(folder):\n",
    "    images = []\n",
    "    for filename in os.listdir(folder):\n",
    "        img = cv.imread(os.path.join(folder,filename))\n",
    "        if img is not None:\n",
    "            images.append(img)\n",
    "    return images\n",
    "set_D = \"/home/imad/Desktop/Becode/Project/challenge-mole/Mole_Data/Mole_Data/SET_D\"\n",
    "set_F = \"/home/imad/Desktop/Becode/Project/challenge-mole/Mole_Data/Mole_Data/SET_F\"\n",
    "set_E = \"/home/imad/Desktop/Becode/Project/challenge-mole/Mole_Data/Mole_Data/SET_E\""
   ]
  },
  {
   "cell_type": "code",
   "execution_count": 50,
   "metadata": {},
   "outputs": [],
   "source": [
    "set_D = load_images_from_folder(set_D)\n",
    "# img[0]"
   ]
  },
  {
   "cell_type": "code",
   "execution_count": 51,
   "metadata": {},
   "outputs": [],
   "source": [
    "set_F = load_images_from_folder(set_F)\n"
   ]
  },
  {
   "cell_type": "code",
   "execution_count": 52,
   "metadata": {},
   "outputs": [],
   "source": [
    "set_E = load_images_from_folder(set_E)\n"
   ]
  },
  {
   "cell_type": "code",
   "execution_count": 53,
   "metadata": {},
   "outputs": [],
   "source": [
    "\n",
    "# gray = cv.cvtColor(img, cv.COLOR_BGR2GRAY)\n",
    "for i in range(10) :\n",
    "    cv.imshow('img',set_E[i])\n",
    "    cv.waitKey(0)\n",
    "    cv.destroyAllWindows()"
   ]
  },
  {
   "cell_type": "code",
   "execution_count": 54,
   "metadata": {},
   "outputs": [
    {
     "data": {
      "text/html": [
       "<div>\n",
       "<style scoped>\n",
       "    .dataframe tbody tr th:only-of-type {\n",
       "        vertical-align: middle;\n",
       "    }\n",
       "\n",
       "    .dataframe tbody tr th {\n",
       "        vertical-align: top;\n",
       "    }\n",
       "\n",
       "    .dataframe thead th {\n",
       "        text-align: right;\n",
       "    }\n",
       "</style>\n",
       "<table border=\"1\" class=\"dataframe\">\n",
       "  <thead>\n",
       "    <tr style=\"text-align: right;\">\n",
       "      <th></th>\n",
       "      <th>klin. Diagn.</th>\n",
       "      <th>id</th>\n",
       "      <th>nr</th>\n",
       "      <th>Histo performed</th>\n",
       "      <th>Diagnose red.</th>\n",
       "      <th>kat.Diagnose</th>\n",
       "    </tr>\n",
       "  </thead>\n",
       "  <tbody>\n",
       "    <tr>\n",
       "      <th>0</th>\n",
       "      <td>Compound Nävus</td>\n",
       "      <td>d1</td>\n",
       "      <td>1</td>\n",
       "      <td>0</td>\n",
       "      <td>Compound Nevus</td>\n",
       "      <td>1</td>\n",
       "    </tr>\n",
       "    <tr>\n",
       "      <th>1</th>\n",
       "      <td>Compound Nävus</td>\n",
       "      <td>d2</td>\n",
       "      <td>2</td>\n",
       "      <td>0</td>\n",
       "      <td>Compound Nevus</td>\n",
       "      <td>1</td>\n",
       "    </tr>\n",
       "    <tr>\n",
       "      <th>2</th>\n",
       "      <td>Dysplastischer Nävus</td>\n",
       "      <td>d3</td>\n",
       "      <td>3</td>\n",
       "      <td>0</td>\n",
       "      <td>Compound Nevus</td>\n",
       "      <td>1</td>\n",
       "    </tr>\n",
       "    <tr>\n",
       "      <th>3</th>\n",
       "      <td>Compound Nävus</td>\n",
       "      <td>d4</td>\n",
       "      <td>4</td>\n",
       "      <td>0</td>\n",
       "      <td>Compound Nevus</td>\n",
       "      <td>1</td>\n",
       "    </tr>\n",
       "    <tr>\n",
       "      <th>4</th>\n",
       "      <td>Dermaler Nävus</td>\n",
       "      <td>d5</td>\n",
       "      <td>5</td>\n",
       "      <td>0</td>\n",
       "      <td>Compound Nevus</td>\n",
       "      <td>1</td>\n",
       "    </tr>\n",
       "    <tr>\n",
       "      <th>...</th>\n",
       "      <td>...</td>\n",
       "      <td>...</td>\n",
       "      <td>...</td>\n",
       "      <td>...</td>\n",
       "      <td>...</td>\n",
       "      <td>...</td>\n",
       "    </tr>\n",
       "    <tr>\n",
       "      <th>2995</th>\n",
       "      <td>Compound Nevus</td>\n",
       "      <td>f996</td>\n",
       "      <td>2996</td>\n",
       "      <td>0</td>\n",
       "      <td>Compound Nevus</td>\n",
       "      <td>1</td>\n",
       "    </tr>\n",
       "    <tr>\n",
       "      <th>2996</th>\n",
       "      <td>Compound Nevus</td>\n",
       "      <td>f997</td>\n",
       "      <td>2997</td>\n",
       "      <td>0</td>\n",
       "      <td>Compound Nevus</td>\n",
       "      <td>1</td>\n",
       "    </tr>\n",
       "    <tr>\n",
       "      <th>2997</th>\n",
       "      <td>Compound Nevus</td>\n",
       "      <td>f998</td>\n",
       "      <td>2998</td>\n",
       "      <td>0</td>\n",
       "      <td>Compound Nevus</td>\n",
       "      <td>1</td>\n",
       "    </tr>\n",
       "    <tr>\n",
       "      <th>2998</th>\n",
       "      <td>Compound Nevus</td>\n",
       "      <td>f999</td>\n",
       "      <td>2999</td>\n",
       "      <td>0</td>\n",
       "      <td>Compound Nevus</td>\n",
       "      <td>1</td>\n",
       "    </tr>\n",
       "    <tr>\n",
       "      <th>2999</th>\n",
       "      <td>Compound Nevus</td>\n",
       "      <td>f1000</td>\n",
       "      <td>3000</td>\n",
       "      <td>0</td>\n",
       "      <td>Compound Nevus</td>\n",
       "      <td>1</td>\n",
       "    </tr>\n",
       "  </tbody>\n",
       "</table>\n",
       "<p>3000 rows × 6 columns</p>\n",
       "</div>"
      ],
      "text/plain": [
       "              klin. Diagn.     id    nr  Histo performed   Diagnose red.  \\\n",
       "0           Compound Nävus     d1     1                0  Compound Nevus   \n",
       "1           Compound Nävus     d2     2                0  Compound Nevus   \n",
       "2     Dysplastischer Nävus     d3     3                0  Compound Nevus   \n",
       "3           Compound Nävus     d4     4                0  Compound Nevus   \n",
       "4           Dermaler Nävus     d5     5                0  Compound Nevus   \n",
       "...                    ...    ...   ...              ...             ...   \n",
       "2995        Compound Nevus   f996  2996                0  Compound Nevus   \n",
       "2996        Compound Nevus   f997  2997                0  Compound Nevus   \n",
       "2997        Compound Nevus   f998  2998                0  Compound Nevus   \n",
       "2998        Compound Nevus   f999  2999                0  Compound Nevus   \n",
       "2999        Compound Nevus  f1000  3000                0  Compound Nevus   \n",
       "\n",
       "     kat.Diagnose  \n",
       "0               1  \n",
       "1               1  \n",
       "2               1  \n",
       "3               1  \n",
       "4               1  \n",
       "...           ...  \n",
       "2995            1  \n",
       "2996            1  \n",
       "2997            1  \n",
       "2998            1  \n",
       "2999            1  \n",
       "\n",
       "[3000 rows x 6 columns]"
      ]
     },
     "execution_count": 54,
     "metadata": {},
     "output_type": "execute_result"
    }
   ],
   "source": [
    "df = pd.read_excel (r'/home/imad/Desktop/Becode/Project/challenge-mole/Mole_Data/Mole_Data/CLIN_DIA.xlsx')\n",
    "df"
   ]
  },
  {
   "cell_type": "code",
   "execution_count": 55,
   "metadata": {},
   "outputs": [
    {
     "data": {
      "text/plain": [
       "array(['Compound Nävus', 'Dysplastischer Nävus', 'Dermaler Nävus',\n",
       "       'Junktionsnävus', 'Nicht diagnostisch', 'Junctional Nevus',\n",
       "       'Compound Nevus', 'Dysplastic Nevus', 'Dermal Nevus',\n",
       "       'Congenital Nevus', 'Combined Nevus  mit regressionszeichen',\n",
       "       'hämangiom', 'halo nävus', 'Not Diagnostic', 'sutton',\n",
       "       'solare lentigo', \"Pigmented Spitz's Nevus\", 'seb. keratose',\n",
       "       'Superficial Spreading Melanoma', 'Angioma NOS', 'nävoide lentigo',\n",
       "       'Lentigo Maligna', 'seborrh.', 'seborrh. keratose',\n",
       "       'Pigmented Basal Cell Carcinoma', 'Angiokeratoma', 'naev lentigo',\n",
       "       'Atypical Nevus', 'Seborrheic Keratosis', \"Spitz's Nevus\",\n",
       "       'irritierter  nzn', 'irritierter dermaler NZN', 'lentigo simplex',\n",
       "       'Blue Nevus', 'eingeblutetes derm. NZN', 'seborr. keratose',\n",
       "       'inflammierten compoundnävus', 'angiom', 'verr.seborr',\n",
       "       'Nodular Melanoma', 'traumatisierter derm nzn', 'verr.seb. irr.',\n",
       "       'verr. seborr. pig', 'lentigo senilis', 'compound nävus',\n",
       "       'seborrhoic keratosis', 'Compound Nevus entzündlich ver.',\n",
       "       'nävide lentigo', 'nevoide lentigo', 'hallo nävus',\n",
       "       'nävoide Lentigo', 'verr.seborr.irr', 'verr.sebb.irr',\n",
       "       'Combined Nevus', 'nävoidelentigo', 'verr.seborr.pig', 'verr.seb.',\n",
       "       'compound nävus mit verruca', 'verr.seborr.pig.', 'narbe',\n",
       "       'dermaler traumat. naevus', 'seb.keratose', 'seb.ker', 'verr.seb'],\n",
       "      dtype=object)"
      ]
     },
     "execution_count": 55,
     "metadata": {},
     "output_type": "execute_result"
    }
   ],
   "source": [
    "df[\"klin. Diagn.\"].unique()"
   ]
  }
 ],
 "metadata": {
  "kernelspec": {
   "display_name": "Python 3",
   "language": "python",
   "name": "python3"
  },
  "language_info": {
   "codemirror_mode": {
    "name": "ipython",
    "version": 3
   },
   "file_extension": ".py",
   "mimetype": "text/x-python",
   "name": "python",
   "nbconvert_exporter": "python",
   "pygments_lexer": "ipython3",
   "version": "3.8.5"
  }
 },
 "nbformat": 4,
 "nbformat_minor": 4
}
